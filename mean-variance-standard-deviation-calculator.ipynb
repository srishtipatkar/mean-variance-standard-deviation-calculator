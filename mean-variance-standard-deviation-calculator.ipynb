{
 "cells": [
  {
   "cell_type": "markdown",
   "metadata": {},
   "source": [
    "Create a function named `calculate()` that uses Numpy to output the mean, variance, standard deviation, max, min, and sum of the rows, columns, and elements in a 3 x 3 matrix. \n",
    "\n",
    "The input of the function should be a list containing 9 digits. The function should convert the list into a 3 x 3 Numpy array, and then return a dictionary containing the mean, variance, standard deviation, max, min, and sum along both axes and for the flattened matrix. \n",
    "\n",
    "The returned dictionary should follow this format:\n",
    "```py\n",
    "{\n",
    "  'mean': [axis1, axis2, flattened],\n",
    "  'variance': [axis1, axis2, flattened],\n",
    "  'standard deviation': [axis1, axis2, flattened],\n",
    "  'max': [axis1, axis2, flattened],\n",
    "  'min': [axis1, axis2, flattened],\n",
    "  'sum': [axis1, axis2, flattened]\n",
    "}\n",
    "```\n",
    "\n",
    "If a list containing less than 9 elements is passed into the function, it should raise a `ValueError` exception with the message: \"List must contain nine numbers.\" The values in the returned dictionary should be lists and not Numpy arrays."
   ]
  },
  {
   "cell_type": "code",
   "execution_count": 8,
   "metadata": {
    "scrolled": true
   },
   "outputs": [],
   "source": [
    "import numpy as np\n",
    "import pandas as pd\n",
    "from collections import OrderedDict\n",
    "\n",
    "def calculate(list):\n",
    "    a=np.array(list)\n",
    "    if(len(a)!=9):\n",
    "        raise ValueError('List must contain nine numbers.')\n",
    "    else:\n",
    "        a1=a.reshape(3,3)\n",
    "        meanA=[np.mean(a1,axis=0).tolist(),np.mean(a1,axis=1).tolist(),np.mean(a).tolist()]\n",
    "        varianceA=[np.var(a1,axis=0).tolist(),np.var(a1,axis=1).tolist(),np.var(a).tolist()]\n",
    "        stdA=[np.std(a1,axis=0).tolist(),np.std(a1,axis=1).tolist(),np.std(a).tolist()]\n",
    "        maxA=[np.max(a1,axis=0).tolist(),np.max(a1,axis=1).tolist(),np.max(a).tolist()]\n",
    "        minA=[np.min(a1,axis=0).tolist(),np.min(a1,axis=1).tolist(),np.min(a).tolist()]\n",
    "        sumA=[np.sum(a1,axis=0).tolist(),np.sum(a1,axis=1).tolist(),np.sum(a).tolist()]\n",
    "        calculations=OrderedDict({ 'mean': meanA,'variance': varianceA,'standard deviation':stdA,'max': maxA,'min': minA,'sum': sumA})\n",
    "        return calculations"
   ]
  },
  {
   "cell_type": "code",
   "execution_count": 14,
   "metadata": {},
   "outputs": [
    {
     "name": "stdout",
     "output_type": "stream",
     "text": [
      "mean \n",
      " [[3.0, 4.0, 5.0], [1.0, 4.0, 7.0], 4.0] \n",
      "\n",
      "variance \n",
      " [[6.0, 6.0, 6.0], [0.6666666666666666, 0.6666666666666666, 0.6666666666666666], 6.666666666666667] \n",
      "\n",
      "standard deviation \n",
      " [[2.449489742783178, 2.449489742783178, 2.449489742783178], [0.816496580927726, 0.816496580927726, 0.816496580927726], 2.581988897471611] \n",
      "\n",
      "max \n",
      " [[6, 7, 8], [2, 5, 8], 8] \n",
      "\n",
      "min \n",
      " [[0, 1, 2], [0, 3, 6], 0] \n",
      "\n",
      "sum \n",
      " [[9, 12, 15], [3, 12, 21], 36] \n",
      "\n"
     ]
    }
   ],
   "source": [
    "for key,value in calculate([0,1,2,3,4,5,6,7,8]).items():\n",
    "    print(key,'\\n', value,'\\n')"
   ]
  }
 ],
 "metadata": {
  "kernelspec": {
   "display_name": "Python 3",
   "language": "python",
   "name": "python3"
  },
  "language_info": {
   "codemirror_mode": {
    "name": "ipython",
    "version": 3
   },
   "file_extension": ".py",
   "mimetype": "text/x-python",
   "name": "python",
   "nbconvert_exporter": "python",
   "pygments_lexer": "ipython3",
   "version": "3.6.9"
  }
 },
 "nbformat": 4,
 "nbformat_minor": 2
}
